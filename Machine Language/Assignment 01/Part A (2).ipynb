{
 "cells": [
  {
   "cell_type": "markdown",
   "id": "f92931d1",
   "metadata": {},
   "source": [
    "<h4><u>Date:</u> 16/04/2022</h4>"
   ]
  },
  {
   "cell_type": "markdown",
   "id": "8cc50537",
   "metadata": {},
   "source": [
    "### 1. Data Types\n",
    "\n",
    "A data type, in programming, is a classification that specifies which type of value a variable has and what type of mathematical, relational or logical operations can be applied to it without causing an error.\n",
    "The various data types in python are:\n",
    "* Integers\n",
    "* Floating\n",
    "* String\n",
    "* Boolean\n",
    "* List\n",
    "* Tuple\n",
    "* Dictionary\n",
    "* Set\n",
    "\n",
    "> * The difference between tuple and list is that list is mutable but tuple is immutable.\n",
    "> * Dictionaries have keys and values. The syntax is {key:value,key:value}\n",
    "> * The function for dictionary is dict() or simply {}."
   ]
  },
  {
   "cell_type": "code",
   "execution_count": 1,
   "id": "2bd304b9",
   "metadata": {},
   "outputs": [
    {
     "name": "stdout",
     "output_type": "stream",
     "text": [
      "Integer:  59\n",
      "Floating:  59.9801\n",
      "String:  Hello world\n",
      "Boolean:  True\n",
      "List:  [2, 'a', 0]\n",
      "Tuple:  (2, 'a', 0)\n",
      "Dictionary:  {'A': 10, 'B': 9, 'C': 0}\n",
      "List to tuple:  (2, 'a', 0)\n",
      "Tuple to list:  [2, 'a', 0]\n"
     ]
    }
   ],
   "source": [
    "print(\"Integer: \",59)\n",
    "print(\"Floating: \",59.9801)\n",
    "print(\"String: \",\"Hello world\")\n",
    "print(\"Boolean: \",True)\n",
    "print(\"List: \",[2,'a',0])\n",
    "print(\"Tuple: \",(2,'a',0))\n",
    "print(\"Dictionary: \",{'A':10,'B':9,'C':0})\n",
    "print(\"List to tuple: \",tuple([2,'a',0]))\n",
    "print(\"Tuple to list: \",list((2,'a',0)))"
   ]
  },
  {
   "cell_type": "markdown",
   "id": "bd0518da",
   "metadata": {},
   "source": [
    "### 2. Loops\n",
    "A loop is a set of statement s executed over and over again.\n",
    "* A finite loop is the one that runs a finite number of items and then passes control to\n",
    "the statement following it.\n",
    "* An infinite loop is the one that never terminates.\n",
    "* A definite loop is the one that runs a fixed number of times."
   ]
  },
  {
   "cell_type": "code",
   "execution_count": 4,
   "id": "38c45691",
   "metadata": {},
   "outputs": [
    {
     "name": "stdout",
     "output_type": "stream",
     "text": [
      "0\n",
      "1\n",
      "4\n",
      "9\n",
      "16\n"
     ]
    }
   ],
   "source": [
    "for i in range(5):\n",
    "    print(i**2)"
   ]
  },
  {
   "cell_type": "code",
   "execution_count": 5,
   "id": "0c3f7581",
   "metadata": {},
   "outputs": [
    {
     "name": "stdout",
     "output_type": "stream",
     "text": [
      "78\n",
      "80\n",
      "54\n",
      "65\n",
      "90\n"
     ]
    }
   ],
   "source": [
    "marks = [78,80,54,65,90]\n",
    "for i in range(len(marks)):\n",
    "    print(marks[i])"
   ]
  },
  {
   "cell_type": "markdown",
   "id": "e8047415",
   "metadata": {},
   "source": [
    "### 3. Function\n",
    "Functions are self contained blocks of code to perform a specific task. Functions are used\n",
    "for the following reasons:\n",
    "* They help to reduce code redundancy\n",
    "* They help increase code re-usability\n",
    "* They help improve program clarity"
   ]
  },
  {
   "cell_type": "code",
   "execution_count": 6,
   "id": "cfe882d0",
   "metadata": {},
   "outputs": [
    {
     "name": "stdout",
     "output_type": "stream",
     "text": [
      "6\n",
      "5\n"
     ]
    },
    {
     "data": {
      "text/plain": [
       "11"
      ]
     },
     "execution_count": 6,
     "metadata": {},
     "output_type": "execute_result"
    }
   ],
   "source": [
    "def add(x,y):\n",
    "    print(x);print(y)  #---> this is called a scope\n",
    "    return x+y\n",
    "add(6,5)"
   ]
  },
  {
   "cell_type": "markdown",
   "id": "19ce9781",
   "metadata": {},
   "source": [
    "### 4. Packages\n",
    "\n",
    "The basic packages used for Data Science are:\n",
    "* Pandas\n",
    "* Numpy\n",
    "* Scipy : scientific python\n",
    "* Sklearn : very important for machine learning(https://scikit-learn.org/stable/user_guide.html)\n",
    "* Matplotlib : for data visualization\n",
    "\n",
    "The kinds of data are:\n",
    "* Structured : anything with rows and columns (eg: csv,matrix). For such data we use pandas.\n",
    "* Unstructured : anything other than structured data(eg: images, text)\n",
    "\n",
    "\n"
   ]
  },
  {
   "cell_type": "code",
   "execution_count": 7,
   "id": "7f45fa0d",
   "metadata": {},
   "outputs": [],
   "source": [
    "# importing pandas\n",
    "import pandas as pd\n",
    "import numpy as np"
   ]
  },
  {
   "cell_type": "code",
   "execution_count": 8,
   "id": "559c3176",
   "metadata": {},
   "outputs": [
    {
     "data": {
      "text/plain": [
       "0    78\n",
       "1    80\n",
       "2    54\n",
       "3    65\n",
       "4    90\n",
       "dtype: int64"
      ]
     },
     "execution_count": 8,
     "metadata": {},
     "output_type": "execute_result"
    }
   ],
   "source": [
    "# creating series\n",
    "marks = [78,80,54,65,90]\n",
    "mark_series = pd.Series(marks)\n",
    "mark_series"
   ]
  },
  {
   "cell_type": "code",
   "execution_count": 9,
   "id": "7ee86f02",
   "metadata": {},
   "outputs": [
    {
     "name": "stdout",
     "output_type": "stream",
     "text": [
      "RangeIndex(start=0, stop=5, step=1)\n",
      "[78 80 54 65 90]\n",
      "---------------\n",
      "0    78\n",
      "1    80\n",
      "2    54\n",
      "dtype: int64\n",
      "2    54\n",
      "3    65\n",
      "4    90\n",
      "dtype: int64\n",
      "---------------\n"
     ]
    },
    {
     "data": {
      "text/plain": [
       "78    1\n",
       "80    1\n",
       "54    1\n",
       "65    1\n",
       "90    1\n",
       "dtype: int64"
      ]
     },
     "execution_count": 9,
     "metadata": {},
     "output_type": "execute_result"
    }
   ],
   "source": [
    "# Series is 1D. It has two parts\n",
    "print(mark_series.index)\n",
    "print(mark_series.values)\n",
    "print(\"---------------\")\n",
    "\n",
    "# we can also do slicing too in series\n",
    "print(mark_series[:3])\n",
    "print(mark_series[2:])\n",
    "print(\"---------------\")\n",
    "\n",
    "# we can do value count that return a Series containing counts of unique values\n",
    "mark_series.value_counts()"
   ]
  },
  {
   "cell_type": "code",
   "execution_count": 10,
   "id": "5166e080",
   "metadata": {},
   "outputs": [
    {
     "name": "stdout",
     "output_type": "stream",
     "text": [
      "Empty DataFrame\n",
      "Columns: []\n",
      "Index: []\n",
      "---------------\n",
      "    0\n",
      "0  78\n",
      "1  80\n",
      "2  54\n",
      "3  65\n",
      "4  90\n",
      "---------------\n",
      "   Marks\n",
      "0     78\n",
      "1     80\n",
      "2     54\n",
      "3     65\n",
      "4     90\n",
      "---------------\n",
      "        0   1   2   3   4\n",
      "Marks  78  80  54  65  90\n",
      "---------------\n"
     ]
    }
   ],
   "source": [
    "# creating an empty dataframe\n",
    "print(pd.DataFrame())\n",
    "print(\"---------------\")\n",
    "\n",
    "\n",
    "# creating dataframe with records\n",
    "marks = [78,80,54,65,90]\n",
    "df1 =pd.DataFrame(marks)\n",
    "print(df1)\n",
    "print(\"---------------\")\n",
    "\n",
    "#changing the column names\n",
    "df1.columns = ['Marks']\n",
    "print(df1)\n",
    "print(\"---------------\")\n",
    "\n",
    "# transposing the dataframe\n",
    "print(df1.T)\n",
    "print(\"---------------\")\n",
    "\n",
    "# To import a csv dataset to python the syntax is: pd.read_csv() The df.shape is used to find the dimension of the dataset.\n",
    "\n",
    "# To know if there are any missing value in the dataset, we can use dataframe.isna().sum() This will return the total number of missing values in the dataset.\n",
    "\n",
    "# To deal with missing values we can use: fillna()"
   ]
  },
  {
   "cell_type": "markdown",
   "id": "b56136f2",
   "metadata": {},
   "source": [
    "### 5. Statistics\n",
    "\n",
    "* <u>Correlation:</u> the degree of association between variables. \n",
    "   > The syntax is __*dataframename.corr()*__\n",
    "\n",
    "   > For eg) v1 = [1,2,3,4] and v2 = [2,3,4,5] Clearly we see that v2 = v1+1\n",
    "   \n",
    "   > If the correlation is -1 then it is negative perfect correlation, if it is +1 then positive perfect correlation\n",
    "\n",
    "* <u>describe:</u> returns description of the data in the DataFrame.\n",
    "   > The syntax is __*dataframe.describe()*__"
   ]
  }
 ],
 "metadata": {
  "kernelspec": {
   "display_name": "Python 3 (ipykernel)",
   "language": "python",
   "name": "python3"
  },
  "language_info": {
   "codemirror_mode": {
    "name": "ipython",
    "version": 3
   },
   "file_extension": ".py",
   "mimetype": "text/x-python",
   "name": "python",
   "nbconvert_exporter": "python",
   "pygments_lexer": "ipython3",
   "version": "3.9.7"
  }
 },
 "nbformat": 4,
 "nbformat_minor": 5
}
